{
 "cells": [
  {
   "cell_type": "code",
   "execution_count": null,
   "id": "3f08140a",
   "metadata": {},
   "outputs": [],
   "source": [
    "import numpy\n",
    "import pandas as pd\n",
    "from sklearn.datasets import load_breast_cancer\n",
    "cancer = load_breast_cancer()\n",
    "#print(cancer.DESCR) # Print the data set description"
   ]
  },
  {
   "cell_type": "code",
   "execution_count": null,
   "id": "a30f80fd",
   "metadata": {},
   "outputs": [],
   "source": [
    "#0\n",
    "def answer_zero():\n",
    " \"\"\"number of fearute names in the data\n",
    "\n",
    " Returns:\n",
    " int:count of feature names in the 'cancer' data-set\n",
    " \"\"\"\n",
    " return len(cancer['feature_names'])\n",
    " answer_zero()"
   ]
  },
  {
   "cell_type": "code",
   "execution_count": null,
   "id": "44c84e7d",
   "metadata": {},
   "outputs": [],
   "source": [
    "#1\n",
    "import numpy\n",
    "import pandas\n",
    "def answer_one():\n",
    "\n",
    "data = numpy.c_[cancer.data,cancer.target]\n",
    "columns = numpy.append(cancer.feature_names, [\"target\"])\n",
    "\n",
    "return pandas.DataFrame(data, columns=columns)\n",
    "answer_one()"
   ]
  },
  {
   "cell_type": "code",
   "execution_count": null,
   "id": "3a4a6892",
   "metadata": {},
   "outputs": [],
   "source": [
    "#2\n",
    "def answer_two():\n",
    " \"\"\"calculates number of malignent and benign\n",
    " Returns:\n",
    " pandas.Series: counts of each\n",
    " \"\"\"\n",
    " cancerdf = answer_one()\n",
    " counts = cancerdf.target.value_counts(ascending=True)\n",
    " counts.index = \"malignant benign\".split()\n",
    " return counts\n",
    "answer_two()"
   ]
  },
  {
   "cell_type": "code",
   "execution_count": null,
   "id": "0095c818",
   "metadata": {},
   "outputs": [],
   "source": [
    "#3\n",
    "def answer_three():\n",
    " \"\"\"splits the data into data and labels\n",
    " Returns:\n",
    " (pandas.DataFrame, pandas.Series): data, labels\n",
    " \"\"\"\n",
    " cancerdf = answer_one()\n",
    " X = cancerdf[cancerdf.columns[:-1]]\n",
    " y = cancerdf.target\n",
    " return X, y\n",
    "answer_three()"
   ]
  },
  {
   "cell_type": "code",
   "execution_count": null,
   "id": "835de864",
   "metadata": {},
   "outputs": [],
   "source": [
    "#4\n",
    "from sklearn.model_selection import train_test_split\n",
    "def answer_four():\n",
    " \"\"\"splits data into training and testing sets\n",
    " Returns:\n",
    " tuple(pandas.DataFrame): x_train, y_train, x_test, y_test\n",
    " \"\"\"\n",
    " X, y = answer_three()\n",
    " return train_test_split(X, y, train_size=426, test_size=143, random_state=0)\n",
    "answer_four()"
   ]
  },
  {
   "cell_type": "code",
   "execution_count": null,
   "id": "94a5264e",
   "metadata": {},
   "outputs": [],
   "source": [
    "#5\n",
    "from sklearn.neighbors import KNeighborsClassifier\n",
    "def answer_five():\n",
    " \"\"\"Fits a KNN-1 model to the data\n",
    " Returns:\n",
    " sklearn.neighbors.KNeighborsClassifier: trained data\n",
    " \"\"\"\n",
    " X_train, X_test, y_train, y_test = answer_four()\n",
    " model = KNeighborsClassifier(n_neighbors=1)\n",
    " model.fit(X_train, y_train)\n",
    " return model\n",
    "answer_five()"
   ]
  },
  {
   "cell_type": "code",
   "execution_count": null,
   "id": "1f480c37",
   "metadata": {},
   "outputs": [],
   "source": [
    "#6\n",
    "def answer_six():\n",
    " \"\"\"Predicts the class labels for the means of all features\n",
    " Returns:\n",
    " numpy.array: prediction (0 or 1)\n",
    " \"\"\"\n",
    " cancerdf = answer_one()\n",
    " means = cancerdf.mean()[:-1].values.reshape(1, -1)\n",
    " model = answer_five()\n",
    " return model.predict(means)\n",
    "answer_six()"
   ]
  },
  {
   "cell_type": "code",
   "execution_count": null,
   "id": "c78cac77",
   "metadata": {},
   "outputs": [],
   "source": [
    "#7\n",
    "def answer_seven():\n",
    " \"\"\"predicts likelihood of cancer for test set\n",
    " Returns:\n",
    " numpy.array: vector of predictions\n",
    " \"\"\"\n",
    " X_train, X_test, y_train, y_test = answer_four()\n",
    " knn = answer_five()\n",
    " return knn.predict(X_test)\n",
    "answer_seven()"
   ]
  },
  {
   "cell_type": "code",
   "execution_count": null,
   "id": "ecfead5b",
   "metadata": {},
   "outputs": [],
   "source": [
    "#8\n",
    "def answer_eight():\n",
    " \"\"\"calculates the mean accuracy of the KNN model\n",
    " Returns:\n",
    " float: mean accuracy of the model predicting cancer\n",
    " \"\"\"\n",
    " X_train, X_test, y_train, y_test = answer_four()\n",
    " knn = answer_five()\n",
    " return knn.score(X_test, y_test)\n",
    "answer_eight()"
   ]
  }
 ],
 "metadata": {
  "kernelspec": {
   "display_name": "Python 3 (ipykernel)",
   "language": "python",
   "name": "python3"
  },
  "language_info": {
   "codemirror_mode": {
    "name": "ipython",
    "version": 3
   },
   "file_extension": ".py",
   "mimetype": "text/x-python",
   "name": "python",
   "nbconvert_exporter": "python",
   "pygments_lexer": "ipython3",
   "version": "3.11.5"
  }
 },
 "nbformat": 4,
 "nbformat_minor": 5
}
